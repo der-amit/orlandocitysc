{
 "cells": [
  {
   "cell_type": "code",
   "execution_count": 90,
   "metadata": {},
   "outputs": [],
   "source": [
    "import pandas as pd \n",
    "import numpy as np \n",
    "import matplotlib.pyplot as plt \n",
    "from mplsoccer import Pitch"
   ]
  },
  {
   "cell_type": "code",
   "execution_count": 67,
   "metadata": {},
   "outputs": [],
   "source": [
    "df = pd.read_csv(\"/Users/amitmishra/Desktop/goal 1 orlando vs minnesota.csv\")"
   ]
  },
  {
   "cell_type": "code",
   "execution_count": 68,
   "metadata": {},
   "outputs": [
    {
     "data": {
      "text/html": [
       "<div>\n",
       "<style scoped>\n",
       "    .dataframe tbody tr th:only-of-type {\n",
       "        vertical-align: middle;\n",
       "    }\n",
       "\n",
       "    .dataframe tbody tr th {\n",
       "        vertical-align: top;\n",
       "    }\n",
       "\n",
       "    .dataframe thead th {\n",
       "        text-align: right;\n",
       "    }\n",
       "</style>\n",
       "<table border=\"1\" class=\"dataframe\">\n",
       "  <thead>\n",
       "    <tr style=\"text-align: right;\">\n",
       "      <th></th>\n",
       "      <th>Team</th>\n",
       "      <th>Player</th>\n",
       "      <th>Event</th>\n",
       "      <th>Mins</th>\n",
       "      <th>Secs</th>\n",
       "      <th>X</th>\n",
       "      <th>Y</th>\n",
       "      <th>X2</th>\n",
       "      <th>Y2</th>\n",
       "    </tr>\n",
       "  </thead>\n",
       "  <tbody>\n",
       "    <tr>\n",
       "      <th>0</th>\n",
       "      <td>Away</td>\n",
       "      <td>A1</td>\n",
       "      <td>Position</td>\n",
       "      <td>0</td>\n",
       "      <td>27</td>\n",
       "      <td>23</td>\n",
       "      <td>56</td>\n",
       "      <td>-</td>\n",
       "      <td>-</td>\n",
       "    </tr>\n",
       "    <tr>\n",
       "      <th>1</th>\n",
       "      <td>Away</td>\n",
       "      <td>A2</td>\n",
       "      <td>Position</td>\n",
       "      <td>0</td>\n",
       "      <td>27</td>\n",
       "      <td>21</td>\n",
       "      <td>41</td>\n",
       "      <td>-</td>\n",
       "      <td>-</td>\n",
       "    </tr>\n",
       "    <tr>\n",
       "      <th>2</th>\n",
       "      <td>Away</td>\n",
       "      <td>A3</td>\n",
       "      <td>Position</td>\n",
       "      <td>0</td>\n",
       "      <td>27</td>\n",
       "      <td>19</td>\n",
       "      <td>23</td>\n",
       "      <td>-</td>\n",
       "      <td>-</td>\n",
       "    </tr>\n",
       "    <tr>\n",
       "      <th>3</th>\n",
       "      <td>Away</td>\n",
       "      <td>A4</td>\n",
       "      <td>Position</td>\n",
       "      <td>0</td>\n",
       "      <td>27</td>\n",
       "      <td>28</td>\n",
       "      <td>39</td>\n",
       "      <td>-</td>\n",
       "      <td>-</td>\n",
       "    </tr>\n",
       "    <tr>\n",
       "      <th>4</th>\n",
       "      <td>Away</td>\n",
       "      <td>A5</td>\n",
       "      <td>Position</td>\n",
       "      <td>0</td>\n",
       "      <td>27</td>\n",
       "      <td>23</td>\n",
       "      <td>28</td>\n",
       "      <td>-</td>\n",
       "      <td>-</td>\n",
       "    </tr>\n",
       "  </tbody>\n",
       "</table>\n",
       "</div>"
      ],
      "text/plain": [
       "   Team Player     Event  Mins  Secs   X   Y X2 Y2\n",
       "0  Away     A1  Position     0    27  23  56  -  -\n",
       "1  Away     A2  Position     0    27  21  41  -  -\n",
       "2  Away     A3  Position     0    27  19  23  -  -\n",
       "3  Away     A4  Position     0    27  28  39  -  -\n",
       "4  Away     A5  Position     0    27  23  28  -  -"
      ]
     },
     "execution_count": 68,
     "metadata": {},
     "output_type": "execute_result"
    }
   ],
   "source": [
    "df.head()"
   ]
  },
  {
   "cell_type": "code",
   "execution_count": 69,
   "metadata": {},
   "outputs": [],
   "source": [
    "df[\"X\"] = df[\"X\"]*1.2\n",
    "df[\"Y\"]= df[\"Y\"]*0.8"
   ]
  },
  {
   "cell_type": "code",
   "execution_count": 81,
   "metadata": {},
   "outputs": [],
   "source": [
    "# Filtering data for the 'Away' team (e.g., Minnesota)\n",
    "minnesota = df[df[\"Team\"]=='Away']\n",
    "# Create a list of zeros for the team indicator column\n",
    "minnesota1 = [0] * len(minnesota)"
   ]
  },
  {
   "cell_type": "code",
   "execution_count": 82,
   "metadata": {},
   "outputs": [
    {
     "data": {
      "text/html": [
       "<div>\n",
       "<style scoped>\n",
       "    .dataframe tbody tr th:only-of-type {\n",
       "        vertical-align: middle;\n",
       "    }\n",
       "\n",
       "    .dataframe tbody tr th {\n",
       "        vertical-align: top;\n",
       "    }\n",
       "\n",
       "    .dataframe thead th {\n",
       "        text-align: right;\n",
       "    }\n",
       "</style>\n",
       "<table border=\"1\" class=\"dataframe\">\n",
       "  <thead>\n",
       "    <tr style=\"text-align: right;\">\n",
       "      <th></th>\n",
       "      <th>Team</th>\n",
       "      <th>Player</th>\n",
       "      <th>Event</th>\n",
       "      <th>Mins</th>\n",
       "      <th>Secs</th>\n",
       "      <th>X</th>\n",
       "      <th>Y</th>\n",
       "      <th>X2</th>\n",
       "      <th>Y2</th>\n",
       "    </tr>\n",
       "  </thead>\n",
       "  <tbody>\n",
       "    <tr>\n",
       "      <th>0</th>\n",
       "      <td>Away</td>\n",
       "      <td>A1</td>\n",
       "      <td>Position</td>\n",
       "      <td>0</td>\n",
       "      <td>27</td>\n",
       "      <td>27.6</td>\n",
       "      <td>44.8</td>\n",
       "      <td>-</td>\n",
       "      <td>-</td>\n",
       "    </tr>\n",
       "    <tr>\n",
       "      <th>1</th>\n",
       "      <td>Away</td>\n",
       "      <td>A2</td>\n",
       "      <td>Position</td>\n",
       "      <td>0</td>\n",
       "      <td>27</td>\n",
       "      <td>25.2</td>\n",
       "      <td>32.8</td>\n",
       "      <td>-</td>\n",
       "      <td>-</td>\n",
       "    </tr>\n",
       "    <tr>\n",
       "      <th>2</th>\n",
       "      <td>Away</td>\n",
       "      <td>A3</td>\n",
       "      <td>Position</td>\n",
       "      <td>0</td>\n",
       "      <td>27</td>\n",
       "      <td>22.8</td>\n",
       "      <td>18.4</td>\n",
       "      <td>-</td>\n",
       "      <td>-</td>\n",
       "    </tr>\n",
       "    <tr>\n",
       "      <th>3</th>\n",
       "      <td>Away</td>\n",
       "      <td>A4</td>\n",
       "      <td>Position</td>\n",
       "      <td>0</td>\n",
       "      <td>27</td>\n",
       "      <td>33.6</td>\n",
       "      <td>31.2</td>\n",
       "      <td>-</td>\n",
       "      <td>-</td>\n",
       "    </tr>\n",
       "    <tr>\n",
       "      <th>4</th>\n",
       "      <td>Away</td>\n",
       "      <td>A5</td>\n",
       "      <td>Position</td>\n",
       "      <td>0</td>\n",
       "      <td>27</td>\n",
       "      <td>27.6</td>\n",
       "      <td>22.4</td>\n",
       "      <td>-</td>\n",
       "      <td>-</td>\n",
       "    </tr>\n",
       "    <tr>\n",
       "      <th>5</th>\n",
       "      <td>Away</td>\n",
       "      <td>A6</td>\n",
       "      <td>Position</td>\n",
       "      <td>0</td>\n",
       "      <td>27</td>\n",
       "      <td>37.2</td>\n",
       "      <td>31.2</td>\n",
       "      <td>-</td>\n",
       "      <td>-</td>\n",
       "    </tr>\n",
       "    <tr>\n",
       "      <th>10</th>\n",
       "      <td>Away</td>\n",
       "      <td>A7</td>\n",
       "      <td>Position</td>\n",
       "      <td>0</td>\n",
       "      <td>27</td>\n",
       "      <td>44.4</td>\n",
       "      <td>28.0</td>\n",
       "      <td>-</td>\n",
       "      <td>-</td>\n",
       "    </tr>\n",
       "    <tr>\n",
       "      <th>12</th>\n",
       "      <td>Away</td>\n",
       "      <td>A8</td>\n",
       "      <td>Position</td>\n",
       "      <td>0</td>\n",
       "      <td>27</td>\n",
       "      <td>49.2</td>\n",
       "      <td>55.2</td>\n",
       "      <td>-</td>\n",
       "      <td>-</td>\n",
       "    </tr>\n",
       "  </tbody>\n",
       "</table>\n",
       "</div>"
      ],
      "text/plain": [
       "    Team Player     Event  Mins  Secs     X     Y X2 Y2\n",
       "0   Away     A1  Position     0    27  27.6  44.8  -  -\n",
       "1   Away     A2  Position     0    27  25.2  32.8  -  -\n",
       "2   Away     A3  Position     0    27  22.8  18.4  -  -\n",
       "3   Away     A4  Position     0    27  33.6  31.2  -  -\n",
       "4   Away     A5  Position     0    27  27.6  22.4  -  -\n",
       "5   Away     A6  Position     0    27  37.2  31.2  -  -\n",
       "10  Away     A7  Position     0    27  44.4  28.0  -  -\n",
       "12  Away     A8  Position     0    27  49.2  55.2  -  -"
      ]
     },
     "execution_count": 82,
     "metadata": {},
     "output_type": "execute_result"
    }
   ],
   "source": [
    "minnesota "
   ]
  },
  {
   "cell_type": "code",
   "execution_count": 83,
   "metadata": {},
   "outputs": [],
   "source": [
    "# Filtering data for the 'Home' team (e.g., Orlando)\n",
    "orlando = df[df[\"Team\"]=='Home']\n",
    "# Create a list of ones for the team indicator column\n",
    "orlando1 = [1] * len(orlando)"
   ]
  },
  {
   "cell_type": "code",
   "execution_count": 85,
   "metadata": {},
   "outputs": [],
   "source": [
    "# Concatenate X and Y coordinates of both teams\n",
    "combined_x = pd.concat([minnesota['X'], orlando['X']], ignore_index=True)\n",
    "combined_y = pd.concat([minnesota['Y'], orlando['Y']], ignore_index=True)"
   ]
  },
  {
   "cell_type": "code",
   "execution_count": 88,
   "metadata": {},
   "outputs": [
    {
     "name": "stdout",
     "output_type": "stream",
     "text": [
      "       x     y  team\n",
      "0   27.6  44.8     0\n",
      "1   25.2  32.8     0\n",
      "2   22.8  18.4     0\n",
      "3   33.6  31.2     0\n",
      "4   27.6  22.4     0\n",
      "5   37.2  31.2     0\n",
      "6   44.4  28.0     0\n",
      "7   49.2  55.2     0\n",
      "8   19.2  24.8     1\n",
      "9   31.2  40.0     1\n",
      "10  30.0  26.4     1\n",
      "11  34.8  21.6     1\n",
      "12  62.4  52.0     1\n",
      "13  48.0  21.6     1\n",
      "14  49.2  28.8     1\n"
     ]
    }
   ],
   "source": [
    "# Concatenate team indicator column\n",
    "team_indicator = pd.concat([pd.Series(minnesota1), pd.Series(orlando1)], ignore_index=True)\n",
    "\n",
    "# Create a new dataframe\n",
    "mydf = pd.DataFrame({\n",
    "    'x': combined_x,\n",
    "    'y': combined_y,\n",
    "    'team': team_indicator\n",
    "})\n",
    "\n",
    "print(mydf)\n"
   ]
  },
  {
   "cell_type": "code",
   "execution_count": 99,
   "metadata": {},
   "outputs": [
    {
     "data": {
      "image/png": "[encoded data removed]",
      "text/plain": [
       "<Figure size 1300x800 with 1 Axes>"
      ]
     },
     "metadata": {},
     "output_type": "display_data"
    }
   ],
   "source": [
    "fig, ax = plt.subplots(figsize = (13,8))\n",
    "\n",
    "pitch = Pitch(pitch_type = 'statsbomb', pitch_color = 'green', line_color = 'white')\n",
    "pitch.draw(ax=ax)"
   ]
  },
  {
   "cell_type": "code",
   "execution_count": 92,
   "metadata": {},
   "outputs": [
    {
     "data": {
      "text/plain": [
       "array([[27.6, 44.8],\n",
       "       [25.2, 32.8],\n",
       "       [22.8, 18.4],\n",
       "       [33.6, 31.2],\n",
       "       [27.6, 22.4],\n",
       "       [37.2, 31.2],\n",
       "       [44.4, 28. ],\n",
       "       [49.2, 55.2],\n",
       "       [19.2, 24.8],\n",
       "       [31.2, 40. ],\n",
       "       [30. , 26.4],\n",
       "       [34.8, 21.6],\n",
       "       [62.4, 52. ],\n",
       "       [48. , 21.6],\n",
       "       [49.2, 28.8]])"
      ]
     },
     "execution_count": 92,
     "metadata": {},
     "output_type": "execute_result"
    }
   ],
   "source": [
    "#Create a points array to combine the x and the y values together from the dataframe column\n",
    "\n",
    "points = np.column_stack((mydf.x, mydf.y))\n",
    "points"
   ]
  },
  {
   "cell_type": "code",
   "execution_count": 135,
   "metadata": {},
   "outputs": [
    {
     "data": {
      "image/png": "[encoded data removed]",
      "text/plain": [
       "<Figure size 1000x600 with 1 Axes>"
      ]
     },
     "metadata": {},
     "output_type": "display_data"
    }
   ],
   "source": [
    "fig, ax = plt.subplots(figsize = (10,6))\n",
    "\n",
    "pitch = Pitch(pitch_type = 'statsbomb', pitch_color = 'white', line_color = 'black')\n",
    "pitch.draw(ax=ax)\n",
    "\n",
    "x = mydf['x']\n",
    "y = mydf['y']\n",
    "team1, team2 = pitch.voronoi(x,y,mydf.team)\n",
    "\n",
    "t1 = pitch.polygon(team1, ax = ax, fc = 'purple', ec = 'white', lw = 3, alpha = 0.5)\n",
    "t2 = pitch.polygon(team2, ax = ax, fc = 'black', ec = 'white', lw = 3, alpha = 0.5)\n",
    "\n",
    "#Plot players\n",
    "\n",
    "sc1 = pitch.scatter(minnesota.X, minnesota.Y, c='blue', s=20, ec='k', ax=ax)\n",
    "sc2 = pitch.scatter(orlando.X, orlando.Y, c='pink', s=20, ec='k', ax=ax)\n",
    "\n",
    "annotation = ax.annotate('Pink Zones: Orlando City SC', (100, -2), fontsize=10, ha='center')\n",
    "\n"
   ]
  },
  {
   "cell_type": "code",
   "execution_count": null,
   "metadata": {},
   "outputs": [],
   "source": []
  }
 ],
 "metadata": {
  "kernelspec": {
   "display_name": "Python 3",
   "language": "python",
   "name": "python3"
  },
  "language_info": {
   "codemirror_mode": {
    "name": "ipython",
    "version": 3
   },
   "file_extension": ".py",
   "mimetype": "text/x-python",
   "name": "python",
   "nbconvert_exporter": "python",
   "pygments_lexer": "ipython3",
   "version": "3.12.2"
  },
  "orig_nbformat": 4
 },
 "nbformat": 4,
 "nbformat_minor": 2
}
